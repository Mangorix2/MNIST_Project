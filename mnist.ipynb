{
 "cells": [
  {
   "cell_type": "code",
   "execution_count": 18,
   "id": "35f60bef",
   "metadata": {},
   "outputs": [],
   "source": [
    "import numpy as np\n",
    "import matplotlib.pyplot as plt\n",
    "%matplotlib inline\n",
    "import time\n",
    "import pickle\n",
    "import random"
   ]
  },
  {
   "cell_type": "markdown",
   "id": "661d91cc",
   "metadata": {},
   "source": [
    "Downlaod the Datasets from \"https://github.com/phoebetronic/mnist\""
   ]
  },
  {
   "cell_type": "code",
   "execution_count": 10,
   "id": "1352cd84",
   "metadata": {},
   "outputs": [],
   "source": [
    "mnist_train = \"data/mnist_train.csv\"\n",
    "mnist_test = \"data/mnist_test.csv\""
   ]
  },
  {
   "cell_type": "code",
   "execution_count": 11,
   "id": "3217c783",
   "metadata": {},
   "outputs": [
    {
     "name": "stdout",
     "output_type": "stream",
     "text": [
      "60000\n",
      "10000\n"
     ]
    }
   ],
   "source": [
    "train_file = open(mnist_train, \"r\")\n",
    "train_list = train_file.readlines()\n",
    "train_file.close()\n",
    "print(len(train_list))\n",
    "\n",
    "test_file = open(mnist_test, \"r\")\n",
    "test_list = test_file.readlines()\n",
    "test_file.close()\n",
    "print(len(test_list))\n"
   ]
  },
  {
   "cell_type": "code",
   "execution_count": 12,
   "id": "3ff2d5df",
   "metadata": {},
   "outputs": [
    {
     "data": {
      "text/plain": [
       "<matplotlib.image.AxesImage at 0x25eac482ad0>"
      ]
     },
     "execution_count": 12,
     "metadata": {},
     "output_type": "execute_result"
    },
    {
     "data": {
      "image/png": "[encoded data removed]",
      "text/plain": [
       "<Figure size 640x480 with 1 Axes>"
      ]
     },
     "metadata": {},
     "output_type": "display_data"
    }
   ],
   "source": [
    "values = train_list[100].split(\",\")\n",
    "image_array = np.asarray(values[1:], dtype=np.float32).reshape((28,28))\n",
    "plt.imshow(image_array, cmap=\"Greys\", interpolation=\"None\")"
   ]
  },
  {
   "cell_type": "markdown",
   "id": "c9ad8389",
   "metadata": {},
   "source": [
    "# Neuronal Network\n"
   ]
  },
  {
   "cell_type": "code",
   "execution_count": 26,
   "id": "18e5a97f",
   "metadata": {},
   "outputs": [],
   "source": [
    "class DenseNeuronalNetwork:\n",
    "    def __init__(self, sizes, learningRate):\n",
    "        self.sizes = sizes\n",
    "        self.learningRate = learningRate\n",
    "\n",
    "        input_layer = sizes[0]\n",
    "        hidden_layer_1 = sizes[1]\n",
    "        hidden_layer_2= sizes[2]\n",
    "        output_layer = sizes[3]\n",
    "\n",
    "        self.params = {\n",
    "            'weight1': np.random.randn(hidden_layer_1, input_layer) * np.sqrt(1 / hidden_layer_1),\n",
    "            'weight2': np.random.randn(hidden_layer_2, hidden_layer_1) * np.sqrt(1 / hidden_layer_2),\n",
    "            'weight3': np.random.randn(output_layer, hidden_layer_2) * np.sqrt(1 / output_layer)\n",
    "        }\n",
    "\n",
    "    def sigmoid(self, x, derivatative=False):\n",
    "        sig = 1/(1 + np.exp(-x))\n",
    "\n",
    "        if derivatative:\n",
    "            return(sig * (1-sig))\n",
    "        return(sig)\n",
    "    \n",
    "    def softmax(self, x, derivatative=False):\n",
    "        exps = np.exp(x - x.max())\n",
    "        if derivatative:\n",
    "            return exps / np.sum(exps, axis=0) * (1 - exps / np.sum(exps, axis=0))\n",
    "        return exps / np.sum(exps, axis=0)\n",
    "\n",
    "    def forward_pass(self, x_train):\n",
    "        params = self.params\n",
    "\n",
    "        params['A0'] = x_train\n",
    "\n",
    "        # Input Layer to Hidden Layer 1\n",
    "        params['Z1'] = np.dot(params['weight1'], params['A0'])\n",
    "        params['A1'] = self.sigmoid(params['Z1'])\n",
    "\n",
    "        # Hidden layer 1 to Hidden Layer 2\n",
    "        params['Z2'] = np.dot(params['weight2'], params['A1'])\n",
    "        params['A2'] = self.sigmoid(params['Z2'])\n",
    "\n",
    "        # Hidden Layer 2 to Output Layer\n",
    "        params['Z3'] = np.dot(params['weight3'], params['A2'])\n",
    "        params['A3'] = self.softmax(params['Z3'])\n",
    "\n",
    "        return params['A3']\n",
    "\n",
    "    def backward_pass(self, y_train, output):\n",
    "        params = self.params\n",
    "\n",
    "        change_weight = {}\n",
    "\n",
    "        # Calculate the weight3 Update\n",
    "        error = 2 * (output - y_train) / output.shape[0] * self.softmax(params['Z3'], derivatative=True)\n",
    "        change_weight['weight3'] = np.outer(error, params['A2'])\n",
    "\n",
    "        # Calculate the weight2 Update\n",
    "        error  = np.dot(params['weight3'].T, error) * self.sigmoid(params['Z2'], derivatative=True)\n",
    "        change_weight['weight2'] = np.outer(error, params['A1'])\n",
    "\n",
    "         # Calculate the weight1 Update\n",
    "        error  = np.dot(params['weight2'].T, error) * self.sigmoid(params['Z1'], derivatative=True)\n",
    "        change_weight['weight1'] = np.outer(error, params['A0'])\n",
    "\n",
    "        return change_weight\n",
    "\n",
    "    def update_weights(self, change_weight):\n",
    "        for key, val in change_weight.items():\n",
    "            self.params[key] -= self.learningRate * val\n",
    "\n",
    "    def accuracy(self, test_data):\n",
    "        predictions = []\n",
    "        for x in test_data:\n",
    "            values = x.split(\",\")\n",
    "            inputs = (np.asarray(values[1:], dtype=np.float32) / 255.0 *0.99) + 0.01\n",
    "            targets = np.zeros(10) + 0.01\n",
    "            targets[int(values[0])] = 0.99\n",
    "            output = self.forward_pass(inputs)\n",
    "            prediction = np.argmax(output)\n",
    "            predictions.append(prediction == np.argmax(targets))\n",
    "\n",
    "        return np.mean(predictions)\n",
    "            \n",
    "\n",
    "    def train(self, train_list, test_list, epochs, batch_size=32):\n",
    "        for i in range(epochs):\n",
    "            start_time = time.time()\n",
    "            random.shuffle(train_list)\n",
    "            batch_gradients = {key: 0 for key in self.params if \"weight\" in key}\n",
    "\n",
    "            for idx, x in enumerate(train_list):\n",
    "                values = x.split(\",\")\n",
    "                inputs = (np.asarray(values[1:], dtype=np.float32) / 255.0 *0.99) + 0.01\n",
    "                targets = np.zeros(10) + 0.01\n",
    "                targets[int(values[0])] = 0.99\n",
    "\n",
    "                output = self.forward_pass(inputs)\n",
    "                change_weight = self.backward_pass(targets, output)\n",
    "\n",
    "                for key in batch_gradients:\n",
    "                    batch_gradients[key] += change_weight[key]\n",
    "                \n",
    "                if (idx +1) % batch_size == 0:\n",
    "                    avg_gradients = {key: value / batch_size for key, value in batch_gradients.items()}\n",
    "                    self.update_weights(avg_gradients)\n",
    "                    batch_gradients = {key: 0 for key in self.params if \"weight\" in key}\n",
    "\n",
    "            accuracy = self.accuracy(test_list)\n",
    "\n",
    "            print('Epoch: {0}, Time Spent: {1:.2f}s, Accuracy: {2:.2f}%'.format(i+1, time.time() - start_time, accuracy * 100))\n",
    "        "
   ]
  },
  {
   "cell_type": "markdown",
   "id": "8d2480c5",
   "metadata": {},
   "source": [
    "# To Create a new Model\n",
    "\n",
    "```python\n",
    "sizes = [784, 128, 64, 10]\n",
    "denseNeuronalNetwork = DenseNeuronalNetwork(sizes, learningRate=0.001)\n",
    "\n",
    "with open(\"model.pkl\", \"wb\") as f:\n",
    "    pickle.dump(denseNeuronalNetwork, f)\n",
    "```"
   ]
  },
  {
   "cell_type": "code",
   "execution_count": null,
   "id": "f38be8c8",
   "metadata": {},
   "outputs": [],
   "source": [
    "# Open saved Model\n",
    "modelname = \"model_with_batch.pkl\"\n",
    "\n",
    "with open(modelname, \"rb\") as f:\n",
    "    loaded_model = pickle.load(f)\n",
    "\n",
    "accuracy = loaded_model.accuracy(test_list)\n",
    "print(\"Curernt Accurancy:\", accuracy*100)\n",
    "\n",
    "\n",
    "# Train the Model\n",
    "\n",
    "loaded_model.train(train_list, test_list, epochs=20)\n",
    "\n",
    "with open(modelname, \"wb\") as f:\n",
    "    pickle.dump(loaded_model, f)"
   ]
  }
 ],
 "metadata": {
  "kernelspec": {
   "display_name": ".venv",
   "language": "python",
   "name": "python3"
  },
  "language_info": {
   "codemirror_mode": {
    "name": "ipython",
    "version": 3
   },
   "file_extension": ".py",
   "mimetype": "text/x-python",
   "name": "python",
   "nbconvert_exporter": "python",
   "pygments_lexer": "ipython3",
   "version": "3.13.7"
  }
 },
 "nbformat": 4,
 "nbformat_minor": 5
}
